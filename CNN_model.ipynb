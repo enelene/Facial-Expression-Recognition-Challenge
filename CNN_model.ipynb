{
  "nbformat": 4,
  "nbformat_minor": 0,
  "metadata": {
    "colab": {
      "provenance": [],
      "gpuType": "T4"
    },
    "kernelspec": {
      "name": "python3",
      "display_name": "Python 3"
    },
    "language_info": {
      "name": "python"
    },
    "accelerator": "GPU"
  },
  "cells": [
    {
      "cell_type": "code",
      "execution_count": 1,
      "metadata": {
        "colab": {
          "base_uri": "https://localhost:8080/",
          "height": 73
        },
        "id": "LpGSBCGusMJR",
        "outputId": "b903b924-4bdb-4cd0-9777-1f4bafcff7cd"
      },
      "outputs": [
        {
          "output_type": "display_data",
          "data": {
            "text/plain": [
              "<IPython.core.display.HTML object>"
            ],
            "text/html": [
              "\n",
              "     <input type=\"file\" id=\"files-203b55c9-9d7b-4ff9-b8eb-7027c8f3bf71\" name=\"files[]\" multiple disabled\n",
              "        style=\"border:none\" />\n",
              "     <output id=\"result-203b55c9-9d7b-4ff9-b8eb-7027c8f3bf71\">\n",
              "      Upload widget is only available when the cell has been executed in the\n",
              "      current browser session. Please rerun this cell to enable.\n",
              "      </output>\n",
              "      <script>// Copyright 2017 Google LLC\n",
              "//\n",
              "// Licensed under the Apache License, Version 2.0 (the \"License\");\n",
              "// you may not use this file except in compliance with the License.\n",
              "// You may obtain a copy of the License at\n",
              "//\n",
              "//      http://www.apache.org/licenses/LICENSE-2.0\n",
              "//\n",
              "// Unless required by applicable law or agreed to in writing, software\n",
              "// distributed under the License is distributed on an \"AS IS\" BASIS,\n",
              "// WITHOUT WARRANTIES OR CONDITIONS OF ANY KIND, either express or implied.\n",
              "// See the License for the specific language governing permissions and\n",
              "// limitations under the License.\n",
              "\n",
              "/**\n",
              " * @fileoverview Helpers for google.colab Python module.\n",
              " */\n",
              "(function(scope) {\n",
              "function span(text, styleAttributes = {}) {\n",
              "  const element = document.createElement('span');\n",
              "  element.textContent = text;\n",
              "  for (const key of Object.keys(styleAttributes)) {\n",
              "    element.style[key] = styleAttributes[key];\n",
              "  }\n",
              "  return element;\n",
              "}\n",
              "\n",
              "// Max number of bytes which will be uploaded at a time.\n",
              "const MAX_PAYLOAD_SIZE = 100 * 1024;\n",
              "\n",
              "function _uploadFiles(inputId, outputId) {\n",
              "  const steps = uploadFilesStep(inputId, outputId);\n",
              "  const outputElement = document.getElementById(outputId);\n",
              "  // Cache steps on the outputElement to make it available for the next call\n",
              "  // to uploadFilesContinue from Python.\n",
              "  outputElement.steps = steps;\n",
              "\n",
              "  return _uploadFilesContinue(outputId);\n",
              "}\n",
              "\n",
              "// This is roughly an async generator (not supported in the browser yet),\n",
              "// where there are multiple asynchronous steps and the Python side is going\n",
              "// to poll for completion of each step.\n",
              "// This uses a Promise to block the python side on completion of each step,\n",
              "// then passes the result of the previous step as the input to the next step.\n",
              "function _uploadFilesContinue(outputId) {\n",
              "  const outputElement = document.getElementById(outputId);\n",
              "  const steps = outputElement.steps;\n",
              "\n",
              "  const next = steps.next(outputElement.lastPromiseValue);\n",
              "  return Promise.resolve(next.value.promise).then((value) => {\n",
              "    // Cache the last promise value to make it available to the next\n",
              "    // step of the generator.\n",
              "    outputElement.lastPromiseValue = value;\n",
              "    return next.value.response;\n",
              "  });\n",
              "}\n",
              "\n",
              "/**\n",
              " * Generator function which is called between each async step of the upload\n",
              " * process.\n",
              " * @param {string} inputId Element ID of the input file picker element.\n",
              " * @param {string} outputId Element ID of the output display.\n",
              " * @return {!Iterable<!Object>} Iterable of next steps.\n",
              " */\n",
              "function* uploadFilesStep(inputId, outputId) {\n",
              "  const inputElement = document.getElementById(inputId);\n",
              "  inputElement.disabled = false;\n",
              "\n",
              "  const outputElement = document.getElementById(outputId);\n",
              "  outputElement.innerHTML = '';\n",
              "\n",
              "  const pickedPromise = new Promise((resolve) => {\n",
              "    inputElement.addEventListener('change', (e) => {\n",
              "      resolve(e.target.files);\n",
              "    });\n",
              "  });\n",
              "\n",
              "  const cancel = document.createElement('button');\n",
              "  inputElement.parentElement.appendChild(cancel);\n",
              "  cancel.textContent = 'Cancel upload';\n",
              "  const cancelPromise = new Promise((resolve) => {\n",
              "    cancel.onclick = () => {\n",
              "      resolve(null);\n",
              "    };\n",
              "  });\n",
              "\n",
              "  // Wait for the user to pick the files.\n",
              "  const files = yield {\n",
              "    promise: Promise.race([pickedPromise, cancelPromise]),\n",
              "    response: {\n",
              "      action: 'starting',\n",
              "    }\n",
              "  };\n",
              "\n",
              "  cancel.remove();\n",
              "\n",
              "  // Disable the input element since further picks are not allowed.\n",
              "  inputElement.disabled = true;\n",
              "\n",
              "  if (!files) {\n",
              "    return {\n",
              "      response: {\n",
              "        action: 'complete',\n",
              "      }\n",
              "    };\n",
              "  }\n",
              "\n",
              "  for (const file of files) {\n",
              "    const li = document.createElement('li');\n",
              "    li.append(span(file.name, {fontWeight: 'bold'}));\n",
              "    li.append(span(\n",
              "        `(${file.type || 'n/a'}) - ${file.size} bytes, ` +\n",
              "        `last modified: ${\n",
              "            file.lastModifiedDate ? file.lastModifiedDate.toLocaleDateString() :\n",
              "                                    'n/a'} - `));\n",
              "    const percent = span('0% done');\n",
              "    li.appendChild(percent);\n",
              "\n",
              "    outputElement.appendChild(li);\n",
              "\n",
              "    const fileDataPromise = new Promise((resolve) => {\n",
              "      const reader = new FileReader();\n",
              "      reader.onload = (e) => {\n",
              "        resolve(e.target.result);\n",
              "      };\n",
              "      reader.readAsArrayBuffer(file);\n",
              "    });\n",
              "    // Wait for the data to be ready.\n",
              "    let fileData = yield {\n",
              "      promise: fileDataPromise,\n",
              "      response: {\n",
              "        action: 'continue',\n",
              "      }\n",
              "    };\n",
              "\n",
              "    // Use a chunked sending to avoid message size limits. See b/62115660.\n",
              "    let position = 0;\n",
              "    do {\n",
              "      const length = Math.min(fileData.byteLength - position, MAX_PAYLOAD_SIZE);\n",
              "      const chunk = new Uint8Array(fileData, position, length);\n",
              "      position += length;\n",
              "\n",
              "      const base64 = btoa(String.fromCharCode.apply(null, chunk));\n",
              "      yield {\n",
              "        response: {\n",
              "          action: 'append',\n",
              "          file: file.name,\n",
              "          data: base64,\n",
              "        },\n",
              "      };\n",
              "\n",
              "      let percentDone = fileData.byteLength === 0 ?\n",
              "          100 :\n",
              "          Math.round((position / fileData.byteLength) * 100);\n",
              "      percent.textContent = `${percentDone}% done`;\n",
              "\n",
              "    } while (position < fileData.byteLength);\n",
              "  }\n",
              "\n",
              "  // All done.\n",
              "  yield {\n",
              "    response: {\n",
              "      action: 'complete',\n",
              "    }\n",
              "  };\n",
              "}\n",
              "\n",
              "scope.google = scope.google || {};\n",
              "scope.google.colab = scope.google.colab || {};\n",
              "scope.google.colab._files = {\n",
              "  _uploadFiles,\n",
              "  _uploadFilesContinue,\n",
              "};\n",
              "})(self);\n",
              "</script> "
            ]
          },
          "metadata": {}
        },
        {
          "output_type": "stream",
          "name": "stdout",
          "text": [
            "Saving kaggle.json to kaggle.json\n"
          ]
        }
      ],
      "source": [
        "# Run this cell to upload your kaggle.json\n",
        "from google.colab import files\n",
        "files.upload() # Choose the kaggle.json file you downloaded\n",
        "\n",
        "# Make directory and move kaggle.json\n",
        "!mkdir -p ~/.kaggle\n",
        "!cp kaggle.json ~/.kaggle/\n",
        "!chmod 600 ~/.kaggle/kaggle.json\n"
      ]
    },
    {
      "cell_type": "code",
      "source": [
        "!kaggle competitions download -c challenges-in-representation-learning-facial-expression-recognition-challenge"
      ],
      "metadata": {
        "colab": {
          "base_uri": "https://localhost:8080/"
        },
        "id": "9G-6TiWMsqoG",
        "outputId": "e45caba8-d339-448e-cf5d-98b8fa59504c"
      },
      "execution_count": 4,
      "outputs": [
        {
          "output_type": "stream",
          "name": "stdout",
          "text": [
            "Downloading challenges-in-representation-learning-facial-expression-recognition-challenge.zip to /content\n",
            " 87% 249M/285M [00:00<00:00, 565MB/s]\n",
            "100% 285M/285M [00:03<00:00, 94.5MB/s]\n"
          ]
        }
      ]
    },
    {
      "cell_type": "code",
      "source": [
        "!unzip -q challenges-in-representation-learning-facial-expression-recognition-challenge.zip -d fer2013_data"
      ],
      "metadata": {
        "id": "voY4fbEutGFL"
      },
      "execution_count": 5,
      "outputs": []
    },
    {
      "cell_type": "code",
      "source": [
        "!git clone https://github.com/enelene/Facial-Expression-Recognition-Challenge.git"
      ],
      "metadata": {
        "colab": {
          "base_uri": "https://localhost:8080/"
        },
        "id": "uAC7p-47tgsm",
        "outputId": "c764c2bf-3379-4bd4-8dcd-c65fe1750b67"
      },
      "execution_count": 14,
      "outputs": [
        {
          "output_type": "stream",
          "name": "stdout",
          "text": [
            "Cloning into 'Facial-Expression-Recognition-Challenge'...\n",
            "remote: Enumerating objects: 4, done.\u001b[K\n",
            "remote: Counting objects: 100% (4/4), done.\u001b[K\n",
            "remote: Compressing objects: 100% (3/3), done.\u001b[K\n",
            "remote: Total 4 (delta 0), reused 0 (delta 0), pack-reused 0 (from 0)\u001b[K\n",
            "Receiving objects: 100% (4/4), done.\n"
          ]
        }
      ]
    },
    {
      "cell_type": "code",
      "source": [
        "mv"
      ],
      "metadata": {
        "colab": {
          "base_uri": "https://localhost:8080/"
        },
        "id": "O5m0UFPStkGP",
        "outputId": "73b5f7b8-2a3f-4e1c-ffc5-d8fd4adb58d2"
      },
      "execution_count": 16,
      "outputs": [
        {
          "output_type": "stream",
          "name": "stdout",
          "text": [
            "/content/Facial-Expression-Recognition-Challenge\n"
          ]
        }
      ]
    },
    {
      "cell_type": "code",
      "source": [
        "!pip install wandb -q"
      ],
      "metadata": {
        "id": "PxPomYtpu0v9"
      },
      "execution_count": 17,
      "outputs": []
    },
    {
      "cell_type": "code",
      "source": [
        "import wandb\n",
        "wandb.login()\n"
      ],
      "metadata": {
        "colab": {
          "base_uri": "https://localhost:8080/",
          "height": 158
        },
        "id": "8QXvSFjmu2bZ",
        "outputId": "652ae26c-d52a-44ff-f19f-ddce007744b1"
      },
      "execution_count": 18,
      "outputs": [
        {
          "output_type": "display_data",
          "data": {
            "text/plain": [
              "<IPython.core.display.Javascript object>"
            ],
            "application/javascript": [
              "\n",
              "        window._wandbApiKey = new Promise((resolve, reject) => {\n",
              "            function loadScript(url) {\n",
              "            return new Promise(function(resolve, reject) {\n",
              "                let newScript = document.createElement(\"script\");\n",
              "                newScript.onerror = reject;\n",
              "                newScript.onload = resolve;\n",
              "                document.body.appendChild(newScript);\n",
              "                newScript.src = url;\n",
              "            });\n",
              "            }\n",
              "            loadScript(\"https://cdn.jsdelivr.net/npm/postmate/build/postmate.min.js\").then(() => {\n",
              "            const iframe = document.createElement('iframe')\n",
              "            iframe.style.cssText = \"width:0;height:0;border:none\"\n",
              "            document.body.appendChild(iframe)\n",
              "            const handshake = new Postmate({\n",
              "                container: iframe,\n",
              "                url: 'https://wandb.ai/authorize'\n",
              "            });\n",
              "            const timeout = setTimeout(() => reject(\"Couldn't auto authenticate\"), 5000)\n",
              "            handshake.then(function(child) {\n",
              "                child.on('authorize', data => {\n",
              "                    clearTimeout(timeout)\n",
              "                    resolve(data)\n",
              "                });\n",
              "            });\n",
              "            })\n",
              "        });\n",
              "    "
            ]
          },
          "metadata": {}
        },
        {
          "output_type": "stream",
          "name": "stderr",
          "text": [
            "\u001b[34m\u001b[1mwandb\u001b[0m: \u001b[33mWARNING\u001b[0m If you're specifying your api key in code, ensure this code is not shared publicly.\n",
            "\u001b[34m\u001b[1mwandb\u001b[0m: \u001b[33mWARNING\u001b[0m Consider setting the WANDB_API_KEY environment variable, or running `wandb login` from the command line.\n",
            "\u001b[34m\u001b[1mwandb\u001b[0m: No netrc file found, creating one.\n",
            "\u001b[34m\u001b[1mwandb\u001b[0m: Appending key for api.wandb.ai to your netrc file: /root/.netrc\n",
            "\u001b[34m\u001b[1mwandb\u001b[0m: Currently logged in as: \u001b[33megabe21\u001b[0m (\u001b[33megabe21-free-university-of-tbilisi-\u001b[0m) to \u001b[32mhttps://api.wandb.ai\u001b[0m. Use \u001b[1m`wandb login --relogin`\u001b[0m to force relogin\n"
          ]
        },
        {
          "output_type": "execute_result",
          "data": {
            "text/plain": [
              "True"
            ]
          },
          "metadata": {},
          "execution_count": 18
        }
      ]
    },
    {
      "cell_type": "code",
      "source": [
        "import torch\n",
        "import torch.nn as nn\n",
        "import torch.optim as optim\n",
        "from torch.utils.data import Dataset, DataLoader\n",
        "from torchvision import transforms\n",
        "import pandas as pd\n",
        "import numpy as np\n",
        "from PIL import Image\n",
        "import os\n",
        "import matplotlib.pyplot as plt\n"
      ],
      "metadata": {
        "id": "Vqqd7gS0u-Ea"
      },
      "execution_count": 29,
      "outputs": []
    },
    {
      "cell_type": "code",
      "source": [
        "!tar -xzvf ../fer2013_data/fer2013.tar.gz -C ../fer2013_data/"
      ],
      "metadata": {
        "colab": {
          "base_uri": "https://localhost:8080/"
        },
        "id": "bMT1pnpcxTLJ",
        "outputId": "94b5a8fc-ff55-40a1-fc41-4db344efdaa6"
      },
      "execution_count": 23,
      "outputs": [
        {
          "output_type": "stream",
          "name": "stdout",
          "text": [
            "fer2013/fer2013.csv\n",
            "fer2013/README\n",
            "fer2013/fer2013.bib\n",
            "fer2013/\n"
          ]
        }
      ]
    },
    {
      "cell_type": "code",
      "source": [
        "cat ../fer2013_data/fer2013/README"
      ],
      "metadata": {
        "colab": {
          "base_uri": "https://localhost:8080/"
        },
        "id": "Vfig5ANnyEHm",
        "outputId": "56dc581f-5797-4e67-b32a-06529d59ad76"
      },
      "execution_count": 24,
      "outputs": [
        {
          "output_type": "stream",
          "name": "stdout",
          "text": [
            "If you use this dataset in your research work, please cite\n",
            "\n",
            "\"Challenges in Representation Learning: A report on three machine learning\n",
            "contests.\" I Goodfellow, D Erhan, PL Carrier, A Courville, M Mirza, B\n",
            "Hamner, W Cukierski, Y Tang, DH Lee, Y Zhou, C Ramaiah, F Feng, R Li,\n",
            "X Wang, D Athanasakis, J Shawe-Taylor, M Milakov, J Park, R Ionescu,\n",
            "M Popescu, C Grozea, J Bergstra, J Xie, L Romaszko, B Xu, Z Chuang, and\n",
            "Y. Bengio. arXiv 2013.\n",
            "\n",
            "See fer2013.bib for a bibtex entry.\n"
          ]
        }
      ]
    },
    {
      "cell_type": "code",
      "source": [
        "import pandas as pd\n",
        "\n",
        "# Try loading train.csv first\n",
        "try:\n",
        "    train_df = pd.read_csv('fer2013_data/train.csv')\n",
        "    print(\"train.csv head:\")\n",
        "    print(train_df.head())\n",
        "    print(\"\\ntrain.csv columns:\", train_df.columns)\n",
        "    print(\"\\ntrain.csv info:\")\n",
        "    train_df.info()\n",
        "except FileNotFoundError:\n",
        "    print(\"train.csv not found directly. Was fer2013.tar.gz extracted if it contained it?\")\n",
        "\n",
        "# Similarly for test.csv\n",
        "try:\n",
        "    test_df = pd.read_csv('fer2013_data/test.csv')\n",
        "    print(\"\\ntest.csv head:\")\n",
        "    print(test_df.head())\n",
        "except FileNotFoundError:\n",
        "    print(\"test.csv not found directly.\")\n",
        "\n",
        "\n",
        "# And icml_face_data.csv\n",
        "try:\n",
        "    icml_df = pd.read_csv('fer2013_data/icml_face_data.csv')\n",
        "    print(\"\\nicml_face_data.csv head:\")\n",
        "    print(icml_df.head())\n",
        "    print(\"\\nicml_face_data.csv columns:\", icml_df.columns)\n",
        "    print(\"\\nicml_face_data.csv info:\")\n",
        "    icml_df.info()\n",
        "except FileNotFoundError:\n",
        "    print(\"icml_face_data.csv not found directly.\")"
      ],
      "metadata": {
        "colab": {
          "base_uri": "https://localhost:8080/"
        },
        "id": "55gmEn8byPXN",
        "outputId": "15a2a2fa-5858-4ae4-a966-029b4ac97a2c"
      },
      "execution_count": 26,
      "outputs": [
        {
          "output_type": "stream",
          "name": "stdout",
          "text": [
            "train.csv head:\n",
            "   emotion                                             pixels\n",
            "0        0  70 80 82 72 58 58 60 63 54 58 60 48 89 115 121...\n",
            "1        0  151 150 147 155 148 133 111 140 170 174 182 15...\n",
            "2        2  231 212 156 164 174 138 161 173 182 200 106 38...\n",
            "3        4  24 32 36 30 32 23 19 20 30 41 21 22 32 34 21 1...\n",
            "4        6  4 0 0 0 0 0 0 0 0 0 0 0 3 15 23 28 48 50 58 84...\n",
            "\n",
            "train.csv columns: Index(['emotion', 'pixels'], dtype='object')\n",
            "\n",
            "train.csv info:\n",
            "<class 'pandas.core.frame.DataFrame'>\n",
            "RangeIndex: 28709 entries, 0 to 28708\n",
            "Data columns (total 2 columns):\n",
            " #   Column   Non-Null Count  Dtype \n",
            "---  ------   --------------  ----- \n",
            " 0   emotion  28709 non-null  int64 \n",
            " 1   pixels   28709 non-null  object\n",
            "dtypes: int64(1), object(1)\n",
            "memory usage: 448.7+ KB\n",
            "\n",
            "test.csv head:\n",
            "                                              pixels\n",
            "0  254 254 254 254 254 249 255 160 2 58 53 70 77 ...\n",
            "1  156 184 198 202 204 207 210 212 213 214 215 21...\n",
            "2  69 118 61 60 96 121 103 87 103 88 70 90 115 12...\n",
            "3  205 203 236 157 83 158 120 116 94 86 155 180 2...\n",
            "4  87 79 74 66 74 96 77 80 80 84 83 89 102 91 84 ...\n",
            "\n",
            "icml_face_data.csv head:\n",
            "   emotion     Usage                                             pixels\n",
            "0        0  Training  70 80 82 72 58 58 60 63 54 58 60 48 89 115 121...\n",
            "1        0  Training  151 150 147 155 148 133 111 140 170 174 182 15...\n",
            "2        2  Training  231 212 156 164 174 138 161 173 182 200 106 38...\n",
            "3        4  Training  24 32 36 30 32 23 19 20 30 41 21 22 32 34 21 1...\n",
            "4        6  Training  4 0 0 0 0 0 0 0 0 0 0 0 3 15 23 28 48 50 58 84...\n",
            "\n",
            "icml_face_data.csv columns: Index(['emotion', ' Usage', ' pixels'], dtype='object')\n",
            "\n",
            "icml_face_data.csv info:\n",
            "<class 'pandas.core.frame.DataFrame'>\n",
            "RangeIndex: 35887 entries, 0 to 35886\n",
            "Data columns (total 3 columns):\n",
            " #   Column   Non-Null Count  Dtype \n",
            "---  ------   --------------  ----- \n",
            " 0   emotion  35887 non-null  int64 \n",
            " 1    Usage   35887 non-null  object\n",
            " 2    pixels  35887 non-null  object\n",
            "dtypes: int64(1), object(2)\n",
            "memory usage: 841.2+ KB\n"
          ]
        }
      ]
    },
    {
      "cell_type": "code",
      "source": [
        "try:\n",
        "    fer2013_df = pd.read_csv('fer2013_data/fer2013/fer2013.csv')\n",
        "    print(\"\\nfer2013.csv head:\")\n",
        "    print(fer2013_df.head())\n",
        "except FileNotFoundError:\n",
        "    print(\"test.csv not found directly.\")"
      ],
      "metadata": {
        "colab": {
          "base_uri": "https://localhost:8080/"
        },
        "id": "RucK_iqLyjKb",
        "outputId": "18ce199c-a298-4123-ad8a-cf8deb0e1d6d"
      },
      "execution_count": 27,
      "outputs": [
        {
          "output_type": "stream",
          "name": "stdout",
          "text": [
            "\n",
            "fer2013.csv head:\n",
            "   emotion                                             pixels     Usage\n",
            "0        0  70 80 82 72 58 58 60 63 54 58 60 48 89 115 121...  Training\n",
            "1        0  151 150 147 155 148 133 111 140 170 174 182 15...  Training\n",
            "2        2  231 212 156 164 174 138 161 173 182 200 106 38...  Training\n",
            "3        4  24 32 36 30 32 23 19 20 30 41 21 22 32 34 21 1...  Training\n",
            "4        6  4 0 0 0 0 0 0 0 0 0 0 0 3 15 23 28 48 50 58 84...  Training\n"
          ]
        }
      ]
    },
    {
      "cell_type": "code",
      "source": [
        "data_path = 'fer2013_data/icml_face_data.csv'\n",
        "df = pd.read_csv(data_path)\n",
        "\n",
        "df.columns = df.columns.str.strip()\n",
        "print(\"Cleaned column names:\", df.columns)\n",
        "\n",
        "print(df.head())\n",
        "print(\"\\nDataset shape:\", df.shape)\n",
        "print(\"\\nEmotion distribution:\\n\", df['emotion'].value_counts())\n",
        "print(\"\\nUsage distribution:\\n\", df['Usage'].value_counts())\n",
        "\n",
        "# Emotion labels (as defined before)\n",
        "emotion_labels = {0: 'Angry', 1: 'Disgust', 2: 'Fear', 3: 'Happy', 4: 'Sad', 5: 'Surprise', 6: 'Neutral'}\n",
        "num_classes = len(emotion_labels)\n",
        "\n",
        "# --- 2. Split DataFrames based on 'Usage' column ---\n",
        "train_df = df[df['Usage'] == 'Training']\n",
        "val_df = df[df['Usage'] == 'PublicTest']\n",
        "test_df = df[df['Usage'] == 'PrivateTest']\n",
        "\n",
        "print(f\"\\nTraining samples: {len(train_df)}\")\n",
        "print(f\"Validation samples (PublicTest): {len(val_df)}\")\n",
        "print(f\"Test samples (PrivateTest): {len(test_df)}\")\n"
      ],
      "metadata": {
        "colab": {
          "base_uri": "https://localhost:8080/"
        },
        "id": "_cA2LV-y0yF4",
        "outputId": "b0d0cf58-389e-4622-8fda-1751a51b406f"
      },
      "execution_count": 30,
      "outputs": [
        {
          "output_type": "stream",
          "name": "stdout",
          "text": [
            "Cleaned column names: Index(['emotion', 'Usage', 'pixels'], dtype='object')\n",
            "   emotion     Usage                                             pixels\n",
            "0        0  Training  70 80 82 72 58 58 60 63 54 58 60 48 89 115 121...\n",
            "1        0  Training  151 150 147 155 148 133 111 140 170 174 182 15...\n",
            "2        2  Training  231 212 156 164 174 138 161 173 182 200 106 38...\n",
            "3        4  Training  24 32 36 30 32 23 19 20 30 41 21 22 32 34 21 1...\n",
            "4        6  Training  4 0 0 0 0 0 0 0 0 0 0 0 3 15 23 28 48 50 58 84...\n",
            "\n",
            "Dataset shape: (35887, 3)\n",
            "\n",
            "Emotion distribution:\n",
            " emotion\n",
            "3    8989\n",
            "6    6198\n",
            "4    6077\n",
            "2    5121\n",
            "0    4953\n",
            "5    4002\n",
            "1     547\n",
            "Name: count, dtype: int64\n",
            "\n",
            "Usage distribution:\n",
            " Usage\n",
            "Training       28709\n",
            "PublicTest      3589\n",
            "PrivateTest     3589\n",
            "Name: count, dtype: int64\n",
            "\n",
            "Training samples: 28709\n",
            "Validation samples (PublicTest): 3589\n",
            "Test samples (PrivateTest): 3589\n"
          ]
        }
      ]
    },
    {
      "cell_type": "code",
      "source": [
        "class FER2013Dataset(Dataset):\n",
        "    def __init__(self, df, transform=None):\n",
        "        self.df = df\n",
        "        self.transform = transform\n",
        "        self.pixel_strings = self.df['pixels'].values\n",
        "        self.emotions = self.df['emotion'].values\n",
        "\n",
        "    def __len__(self):\n",
        "        return len(self.df)\n",
        "\n",
        "    def __getitem__(self, idx):\n",
        "        # Convert pixel string to numpy array and then to PIL Image\n",
        "        pixel_data = np.fromstring(self.pixel_strings[idx], dtype=int, sep=' ').reshape(48, 48).astype('uint8')\n",
        "        image = Image.fromarray(pixel_data) # Create PIL image from grayscale numpy array\n",
        "        emotion = torch.tensor(self.emotions[idx], dtype=torch.long)\n",
        "\n",
        "        if self.transform:\n",
        "            image = self.transform(image)\n",
        "\n",
        "        return image, emotion"
      ],
      "metadata": {
        "id": "JHbURWfa0v4X"
      },
      "execution_count": 31,
      "outputs": []
    },
    {
      "cell_type": "code",
      "source": [
        "train_transform = transforms.Compose([\n",
        "    transforms.RandomHorizontalFlip(),\n",
        "    transforms.RandomRotation(10),\n",
        "    transforms.ToTensor(),\n",
        "    transforms.Normalize(mean=[0.5], std=[0.5])\n",
        "])\n",
        "\n",
        "val_test_transform = transforms.Compose([\n",
        "    transforms.ToTensor(),\n",
        "    transforms.Normalize(mean=[0.5], std=[0.5])\n",
        "])\n",
        "\n",
        "if 'train_df' in locals():\n",
        "    train_dataset = FER2013Dataset(train_df, transform=train_transform)\n",
        "    val_dataset = FER2013Dataset(val_df, transform=val_test_transform) # Use PublicTest for validation\n",
        "    test_dataset = FER2013Dataset(test_df, transform=val_test_transform)  # Use PrivateTest for final testing\n",
        "\n",
        "    batch_size = 64\n",
        "    train_loader = DataLoader(train_dataset, batch_size=batch_size, shuffle=True, num_workers=2, pin_memory=True)\n",
        "    val_loader = DataLoader(val_dataset, batch_size=batch_size, shuffle=False, num_workers=2, pin_memory=True)\n",
        "    test_loader = DataLoader(test_dataset, batch_size=batch_size, shuffle=False, num_workers=2, pin_memory=True)\n",
        "\n",
        "    # Visualize a sample\n",
        "    def imshow(tensor_img, title=None):\n",
        "        img = tensor_img.clone().squeeze(0)\n",
        "        img = img * 0.5 + 0.5 # Unnormalize\n",
        "        plt.imshow(img.numpy(), cmap='gray')\n",
        "        if title is not None:\n",
        "            plt.title(title)\n",
        "        plt.show()\n",
        "\n",
        "    try:\n",
        "        images, labels = next(iter(train_loader))\n",
        "        idx_to_show = 0\n",
        "        imshow(images[idx_to_show], title=f\"Label: {emotion_labels[labels[idx_to_show].item()]}\")\n",
        "    except Exception as e:\n",
        "        print(f\"Could not display image: {e}.\")\n",
        "else:\n",
        "    print(\"train_df not defined. Skipping DataLoader and visualization.\")"
      ],
      "metadata": {
        "colab": {
          "base_uri": "https://localhost:8080/",
          "height": 452
        },
        "id": "S7WTTyBD0GuX",
        "outputId": "fb7d58de-b4fa-4c44-b2bd-05a1b663eef7"
      },
      "execution_count": 40,
      "outputs": [
        {
          "output_type": "display_data",
          "data": {
            "text/plain": [
              "<Figure size 640x480 with 1 Axes>"
            ],
            "image/png": "[encoded data removed]"
          },
          "metadata": {}
        }
      ]
    },
    {
      "cell_type": "code",
      "source": [
        "import torch\n",
        "import torch.nn as nn\n",
        "import torch.optim as optim\n",
        "import wandb\n",
        "import pandas as pd"
      ],
      "metadata": {
        "id": "LKMN3bJk25xf"
      },
      "execution_count": 42,
      "outputs": []
    },
    {
      "cell_type": "code",
      "source": [
        "class SimpleCNN(nn.Module):\n",
        "    def __init__(self, num_classes_param):\n",
        "        super(SimpleCNN, self).__init__()\n",
        "        # Input is 1x48x48 (grayscale)\n",
        "        self.conv1 = nn.Conv2d(in_channels=1, out_channels=16, kernel_size=3, padding=1)\n",
        "        # (16, 48, 48)\n",
        "        self.relu1 = nn.ReLU()\n",
        "        self.pool1 = nn.MaxPool2d(kernel_size=2, stride=2) # (16, 24, 24)\n",
        "\n",
        "        self.conv2 = nn.Conv2d(in_channels=16, out_channels=32, kernel_size=3, padding=1)\n",
        "        # (32, 24, 24)\n",
        "        self.relu2 = nn.ReLU()\n",
        "        self.pool2 = nn.MaxPool2d(kernel_size=2, stride=2) # (32, 12, 12)\n",
        "\n",
        "        # Flatten the output for the fully connected layer\n",
        "        # 32 channels * 12 * 12 image size = 32 * 144 = 4608\n",
        "        self.fc1 = nn.Linear(32 * 12 * 12, 128)\n",
        "        self.relu3 = nn.ReLU()\n",
        "        self.dropout = nn.Dropout(0.5) # Basic regularization\n",
        "        self.fc2 = nn.Linear(128, num_classes_param)\n",
        "\n",
        "    def forward(self, x):\n",
        "        x = self.pool1(self.relu1(self.conv1(x)))\n",
        "        x = self.pool2(self.relu2(self.conv2(x)))\n",
        "        x = x.view(-1, 32 * 12 * 12) # Flatten\n",
        "        x = self.relu3(self.fc1(x))\n",
        "        x = self.dropout(x)\n",
        "        x = self.fc2(x)\n",
        "        return x"
      ],
      "metadata": {
        "id": "oU342k8I2uaA"
      },
      "execution_count": 43,
      "outputs": []
    },
    {
      "cell_type": "code",
      "source": [
        "if 'num_classes' not in globals():\n",
        "    print(\"Error: num_classes is not defined.\")\n",
        "    exit()\n",
        "\n",
        "device = torch.device('cuda' if torch.cuda.is_available() else 'cpu')\n",
        "print(f\"Using device: {device}\")\n",
        "\n",
        "# Ensure num_classes is defined before this line\n",
        "model = SimpleCNN(num_classes_param=num_classes).to(device)\n",
        "print(model)\n",
        "\n",
        "criterion = nn.CrossEntropyLoss()\n",
        "learning_rate_initial = 0.001\n",
        "optimizer = optim.Adam(model.parameters(), lr=learning_rate_initial)\n"
      ],
      "metadata": {
        "colab": {
          "base_uri": "https://localhost:8080/"
        },
        "id": "pnrTBtQY2IiA",
        "outputId": "10c3aec5-8d48-4558-e7f9-3ecee412780f"
      },
      "execution_count": 44,
      "outputs": [
        {
          "output_type": "stream",
          "name": "stdout",
          "text": [
            "Using device: cuda\n",
            "SimpleCNN(\n",
            "  (conv1): Conv2d(1, 16, kernel_size=(3, 3), stride=(1, 1), padding=(1, 1))\n",
            "  (relu1): ReLU()\n",
            "  (pool1): MaxPool2d(kernel_size=2, stride=2, padding=0, dilation=1, ceil_mode=False)\n",
            "  (conv2): Conv2d(16, 32, kernel_size=(3, 3), stride=(1, 1), padding=(1, 1))\n",
            "  (relu2): ReLU()\n",
            "  (pool2): MaxPool2d(kernel_size=2, stride=2, padding=0, dilation=1, ceil_mode=False)\n",
            "  (fc1): Linear(in_features=4608, out_features=128, bias=True)\n",
            "  (relu3): ReLU()\n",
            "  (dropout): Dropout(p=0.5, inplace=False)\n",
            "  (fc2): Linear(in_features=128, out_features=7, bias=True)\n",
            ")\n"
          ]
        }
      ]
    },
    {
      "cell_type": "code",
      "source": [
        "config_wandb = {\n",
        "    \"learning_rate\": learning_rate_initial,\n",
        "    \"architecture\": \"SimpleCNN_Baseline\",\n",
        "    \"dataset\": \"FER2013_from_icml_face_data\",\n",
        "    \"epochs\": 15, # Start with a moderate number for the baseline\n",
        "    \"batch_size\": batch_size,\n",
        "    \"optimizer\": \"Adam\",\n",
        "    \"criterion\": \"CrossEntropyLoss\",\n",
        "    \"dropout_fc\": 0.5,\n",
        "    \"notes\": \"Baseline model with 2 conv layers and 1 dropout layer in FC part.\"\n",
        "}\n",
        "\n",
        "# Start a new wandb run to track this script\n",
        "run = wandb.init(\n",
        "    project=\"facial-expression-recognition-challenge\",\n",
        "    config=config_wandb,\n",
        "    name=f\"run-{config_wandb['architecture']}-{pd.Timestamp.now().strftime('%Y%m%d-%H%M%S')}\" # Unique run name\n",
        ")\n"
      ],
      "metadata": {
        "colab": {
          "base_uri": "https://localhost:8080/",
          "height": 104
        },
        "id": "cTwYmHmK3OAv",
        "outputId": "22540ccf-f036-452d-fe85-fc1a333007eb"
      },
      "execution_count": 45,
      "outputs": [
        {
          "output_type": "display_data",
          "data": {
            "text/plain": [
              "<IPython.core.display.HTML object>"
            ],
            "text/html": [
              "Tracking run with wandb version 0.19.11"
            ]
          },
          "metadata": {}
        },
        {
          "output_type": "display_data",
          "data": {
            "text/plain": [
              "<IPython.core.display.HTML object>"
            ],
            "text/html": [
              "Run data is saved locally in <code>/content/Facial-Expression-Recognition-Challenge/wandb/run-20250602_185957-jnvyn0a6</code>"
            ]
          },
          "metadata": {}
        },
        {
          "output_type": "display_data",
          "data": {
            "text/plain": [
              "<IPython.core.display.HTML object>"
            ],
            "text/html": [
              "Syncing run <strong><a href='https://wandb.ai/egabe21-free-university-of-tbilisi-/facial-expression-recognition-challenge/runs/jnvyn0a6' target=\"_blank\">run-SimpleCNN_Baseline-20250602-185957</a></strong> to <a href='https://wandb.ai/egabe21-free-university-of-tbilisi-/facial-expression-recognition-challenge' target=\"_blank\">Weights & Biases</a> (<a href='https://wandb.me/developer-guide' target=\"_blank\">docs</a>)<br>"
            ]
          },
          "metadata": {}
        },
        {
          "output_type": "display_data",
          "data": {
            "text/plain": [
              "<IPython.core.display.HTML object>"
            ],
            "text/html": [
              " View project at <a href='https://wandb.ai/egabe21-free-university-of-tbilisi-/facial-expression-recognition-challenge' target=\"_blank\">https://wandb.ai/egabe21-free-university-of-tbilisi-/facial-expression-recognition-challenge</a>"
            ]
          },
          "metadata": {}
        },
        {
          "output_type": "display_data",
          "data": {
            "text/plain": [
              "<IPython.core.display.HTML object>"
            ],
            "text/html": [
              " View run at <a href='https://wandb.ai/egabe21-free-university-of-tbilisi-/facial-expression-recognition-challenge/runs/jnvyn0a6' target=\"_blank\">https://wandb.ai/egabe21-free-university-of-tbilisi-/facial-expression-recognition-challenge/runs/jnvyn0a6</a>"
            ]
          },
          "metadata": {}
        }
      ]
    },
    {
      "cell_type": "code",
      "source": [
        "def train_model_func(model_to_train, t_loader, v_loader, loss_criterion, opt, num_epochs_total, dev, current_wandb_run, run_name_prefix=\"train\"):\n",
        "\n",
        "    best_val_accuracy = 0.0\n",
        "    best_model_path = f\"{run_name_prefix}_best_model.pth\"\n",
        "\n",
        "    current_wandb_run.watch(model_to_train, loss_criterion, log=\"gradients\", log_freq=100) # log_freq is per batch\n",
        "\n",
        "    for epoch in range(num_epochs_total):\n",
        "        model_to_train.train()\n",
        "        running_loss = 0.0\n",
        "        correct_train = 0\n",
        "        total_train = 0\n",
        "\n",
        "        for i, (images, labels) in enumerate(t_loader):\n",
        "            images = images.to(dev)\n",
        "            labels = labels.to(dev)\n",
        "\n",
        "            outputs = model_to_train(images)\n",
        "            loss = loss_criterion(outputs, labels)\n",
        "\n",
        "            opt.zero_grad()\n",
        "            loss.backward()\n",
        "            opt.step()\n",
        "\n",
        "            running_loss += loss.item() * images.size(0)\n",
        "            _, predicted = torch.max(outputs.data, 1)\n",
        "            total_train += labels.size(0)\n",
        "            correct_train += (predicted == labels).sum().item()\n",
        "\n",
        "            if (i + 1) % 100 == 0:\n",
        "                print(f'Epoch [{epoch+1}/{num_epochs_total}], Step [{i+1}/{len(t_loader)}], Batch Loss: {loss.item():.4f}')\n",
        "\n",
        "        epoch_train_loss = running_loss / len(t_loader.dataset)\n",
        "        epoch_train_acc = correct_train / total_train\n",
        "\n",
        "        # Validation phase\n",
        "        model_to_train.eval()\n",
        "        running_val_loss = 0.0\n",
        "        correct_val = 0\n",
        "        total_val = 0\n",
        "\n",
        "        with torch.no_grad():\n",
        "            for images, labels in v_loader:\n",
        "                images = images.to(dev)\n",
        "                labels = labels.to(dev)\n",
        "                outputs = model_to_train(images)\n",
        "                loss = loss_criterion(outputs, labels)\n",
        "\n",
        "                running_val_loss += loss.item() * images.size(0)\n",
        "                _, predicted = torch.max(outputs.data, 1)\n",
        "                total_val += labels.size(0)\n",
        "                correct_val += (predicted == labels).sum().item()\n",
        "\n",
        "        epoch_val_loss = running_val_loss / len(v_loader.dataset)\n",
        "        epoch_val_acc = correct_val / total_val\n",
        "\n",
        "        print(f'Epoch [{epoch+1}/{num_epochs_total}]:')\n",
        "        print(f'  Train Loss: {epoch_train_loss:.4f}, Train Acc: {epoch_train_acc:.4f}')\n",
        "        print(f'  Val Loss: {epoch_val_loss:.4f}, Val Acc: {epoch_val_acc:.4f}')\n",
        "\n",
        "        # Log metrics to Wandb\n",
        "        current_wandb_run.log({\n",
        "            \"epoch\": epoch + 1,\n",
        "            \"train_loss\": epoch_train_loss,\n",
        "            \"train_accuracy\": epoch_train_acc,\n",
        "            \"val_loss\": epoch_val_loss,\n",
        "            \"val_accuracy\": epoch_val_acc,\n",
        "            \"learning_rate_current\": opt.param_groups[0]['lr'] # Log current LR\n",
        "        })\n",
        "\n",
        "        if epoch_val_acc > best_val_accuracy:\n",
        "            best_val_accuracy = epoch_val_acc\n",
        "            torch.save(model_to_train.state_dict(), best_model_path)\n",
        "            wandb.save(best_model_path) # This saves the file to Wandb's cloud storage for the run\n",
        "            print(f\"New best model saved with accuracy: {best_val_accuracy:.4f} at epoch {epoch+1}\")\n",
        "\n",
        "    print('Finished Training')\n",
        "    print(f\"Best validation accuracy during training: {best_val_accuracy:.4f}\")\n",
        "    #loading the best model state for any final evaluations after the loop\n",
        "    model_to_train.load_state_dict(torch.load(best_model_path))\n",
        "    return best_model_path\n",
        "\n"
      ],
      "metadata": {
        "id": "ITGFrkNQAP9F"
      },
      "execution_count": 46,
      "outputs": []
    },
    {
      "cell_type": "code",
      "source": [
        "# run the Training for the Baseline Model ---\n",
        "# Ensure train_loader and val_loader are defined and not empty\n",
        "if 'train_loader' in globals() and len(train_loader) > 0 and 'val_loader' in globals() and len(val_loader) > 0:\n",
        "    print(f\"Starting training for the baseline model: {config_wandb['architecture']}\")\n",
        "    best_model_file_baseline = train_model_func(model, train_loader, val_loader, criterion, optimizer,\n",
        "                                      num_epochs_total=config_wandb[\"epochs\"], dev=device,\n",
        "                                      current_wandb_run=run,\n",
        "                                      run_name_prefix=config_wandb[\"architecture\"])\n",
        "    print(f\"Best model from baseline training saved to: {best_model_file_baseline}\")\n",
        "\n",
        "    trained_model_artifact = wandb.Artifact(\n",
        "        name = f\"{config_wandb['architecture']}_final_model\",\n",
        "        type=\"model\",\n",
        "        description=f\"Final trained model state for {config_wandb['architecture']}\",\n",
        "        metadata=config_wandb # Add all hyperparameters\n",
        "    )\n",
        "    trained_model_artifact.add_file(best_model_file_baseline)\n",
        "    run.log_artifact(trained_model_artifact)\n",
        "    print(f\"Logged {best_model_file_baseline} as a Wandb artifact.\")\n",
        "\n",
        "else:\n",
        "    print(\"DataLoaders (train_loader or val_loader) are not properly initialized or are empty. Skipping training.\")\n",
        "\n",
        "\n",
        "# --- 6. Finish the Wandb Run ---\n",
        "if 'run' in globals() and run is not None:\n",
        "    run.finish()\n",
        "    print(\"Wandb run finished.\")"
      ],
      "metadata": {
        "colab": {
          "base_uri": "https://localhost:8080/",
          "height": 1000
        },
        "id": "WSx9XWvgAmxw",
        "outputId": "ff89320e-6c02-4aaf-a24d-90df0fe1c6c4"
      },
      "execution_count": 47,
      "outputs": [
        {
          "output_type": "stream",
          "name": "stdout",
          "text": [
            "Starting training for the baseline model: SimpleCNN_Baseline\n",
            "Epoch [1/15], Step [100/449], Batch Loss: 1.7912\n",
            "Epoch [1/15], Step [200/449], Batch Loss: 1.7170\n",
            "Epoch [1/15], Step [300/449], Batch Loss: 1.7050\n",
            "Epoch [1/15], Step [400/449], Batch Loss: 1.6390\n",
            "Epoch [1/15]:\n",
            "  Train Loss: 1.6875, Train Acc: 0.3251\n",
            "  Val Loss: 1.5243, Val Acc: 0.4171\n",
            "New best model saved with accuracy: 0.4171 at epoch 1\n",
            "Epoch [2/15], Step [100/449], Batch Loss: 1.5609\n",
            "Epoch [2/15], Step [200/449], Batch Loss: 1.4988\n",
            "Epoch [2/15], Step [300/449], Batch Loss: 1.5701\n",
            "Epoch [2/15], Step [400/449], Batch Loss: 1.6042\n",
            "Epoch [2/15]:\n",
            "  Train Loss: 1.5321, Train Acc: 0.4081\n",
            "  Val Loss: 1.4390, Val Acc: 0.4517\n",
            "New best model saved with accuracy: 0.4517 at epoch 2\n",
            "Epoch [3/15], Step [100/449], Batch Loss: 1.7228\n",
            "Epoch [3/15], Step [200/449], Batch Loss: 1.3938\n",
            "Epoch [3/15], Step [300/449], Batch Loss: 1.4110\n",
            "Epoch [3/15], Step [400/449], Batch Loss: 1.5964\n",
            "Epoch [3/15]:\n",
            "  Train Loss: 1.4583, Train Acc: 0.4390\n",
            "  Val Loss: 1.3785, Val Acc: 0.4759\n",
            "New best model saved with accuracy: 0.4759 at epoch 3\n",
            "Epoch [4/15], Step [100/449], Batch Loss: 1.3168\n",
            "Epoch [4/15], Step [200/449], Batch Loss: 1.4509\n",
            "Epoch [4/15], Step [300/449], Batch Loss: 1.1960\n",
            "Epoch [4/15], Step [400/449], Batch Loss: 1.3870\n",
            "Epoch [4/15]:\n",
            "  Train Loss: 1.4153, Train Acc: 0.4562\n",
            "  Val Loss: 1.3286, Val Acc: 0.4887\n",
            "New best model saved with accuracy: 0.4887 at epoch 4\n",
            "Epoch [5/15], Step [100/449], Batch Loss: 1.5642\n",
            "Epoch [5/15], Step [200/449], Batch Loss: 1.2544\n",
            "Epoch [5/15], Step [300/449], Batch Loss: 1.5011\n",
            "Epoch [5/15], Step [400/449], Batch Loss: 1.4554\n",
            "Epoch [5/15]:\n",
            "  Train Loss: 1.3787, Train Acc: 0.4733\n",
            "  Val Loss: 1.3095, Val Acc: 0.5124\n",
            "New best model saved with accuracy: 0.5124 at epoch 5\n",
            "Epoch [6/15], Step [100/449], Batch Loss: 1.3253\n",
            "Epoch [6/15], Step [200/449], Batch Loss: 1.3797\n",
            "Epoch [6/15], Step [300/449], Batch Loss: 1.4190\n",
            "Epoch [6/15], Step [400/449], Batch Loss: 1.3607\n",
            "Epoch [6/15]:\n",
            "  Train Loss: 1.3589, Train Acc: 0.4794\n",
            "  Val Loss: 1.2888, Val Acc: 0.5091\n",
            "Epoch [7/15], Step [100/449], Batch Loss: 1.3137\n",
            "Epoch [7/15], Step [200/449], Batch Loss: 1.4340\n",
            "Epoch [7/15], Step [300/449], Batch Loss: 1.2154\n",
            "Epoch [7/15], Step [400/449], Batch Loss: 1.2764\n",
            "Epoch [7/15]:\n",
            "  Train Loss: 1.3320, Train Acc: 0.4895\n",
            "  Val Loss: 1.2629, Val Acc: 0.5249\n",
            "New best model saved with accuracy: 0.5249 at epoch 7\n",
            "Epoch [8/15], Step [100/449], Batch Loss: 1.4654\n",
            "Epoch [8/15], Step [200/449], Batch Loss: 1.2493\n",
            "Epoch [8/15], Step [300/449], Batch Loss: 1.2640\n",
            "Epoch [8/15], Step [400/449], Batch Loss: 1.4209\n",
            "Epoch [8/15]:\n",
            "  Train Loss: 1.3091, Train Acc: 0.5002\n",
            "  Val Loss: 1.2506, Val Acc: 0.5213\n",
            "Epoch [9/15], Step [100/449], Batch Loss: 1.2129\n",
            "Epoch [9/15], Step [200/449], Batch Loss: 1.2317\n",
            "Epoch [9/15], Step [300/449], Batch Loss: 1.2773\n",
            "Epoch [9/15], Step [400/449], Batch Loss: 1.3161\n",
            "Epoch [9/15]:\n",
            "  Train Loss: 1.3014, Train Acc: 0.5040\n",
            "  Val Loss: 1.2394, Val Acc: 0.5241\n",
            "Epoch [10/15], Step [100/449], Batch Loss: 1.3810\n",
            "Epoch [10/15], Step [200/449], Batch Loss: 1.1801\n",
            "Epoch [10/15], Step [300/449], Batch Loss: 1.0886\n",
            "Epoch [10/15], Step [400/449], Batch Loss: 1.2775\n",
            "Epoch [10/15]:\n",
            "  Train Loss: 1.2827, Train Acc: 0.5076\n",
            "  Val Loss: 1.2232, Val Acc: 0.5336\n",
            "New best model saved with accuracy: 0.5336 at epoch 10\n",
            "Epoch [11/15], Step [100/449], Batch Loss: 1.1463\n",
            "Epoch [11/15], Step [200/449], Batch Loss: 1.3289\n",
            "Epoch [11/15], Step [300/449], Batch Loss: 1.3100\n",
            "Epoch [11/15], Step [400/449], Batch Loss: 1.3234\n",
            "Epoch [11/15]:\n",
            "  Train Loss: 1.2732, Train Acc: 0.5146\n",
            "  Val Loss: 1.2309, Val Acc: 0.5297\n",
            "Epoch [12/15], Step [100/449], Batch Loss: 1.3839\n",
            "Epoch [12/15], Step [200/449], Batch Loss: 1.2522\n",
            "Epoch [12/15], Step [300/449], Batch Loss: 1.4143\n",
            "Epoch [12/15], Step [400/449], Batch Loss: 1.2016\n",
            "Epoch [12/15]:\n",
            "  Train Loss: 1.2626, Train Acc: 0.5175\n",
            "  Val Loss: 1.2169, Val Acc: 0.5394\n",
            "New best model saved with accuracy: 0.5394 at epoch 12\n",
            "Epoch [13/15], Step [100/449], Batch Loss: 1.3256\n",
            "Epoch [13/15], Step [200/449], Batch Loss: 1.3017\n",
            "Epoch [13/15], Step [300/449], Batch Loss: 1.3149\n",
            "Epoch [13/15], Step [400/449], Batch Loss: 1.2374\n",
            "Epoch [13/15]:\n",
            "  Train Loss: 1.2488, Train Acc: 0.5234\n",
            "  Val Loss: 1.2091, Val Acc: 0.5375\n",
            "Epoch [14/15], Step [100/449], Batch Loss: 1.2010\n",
            "Epoch [14/15], Step [200/449], Batch Loss: 1.2222\n",
            "Epoch [14/15], Step [300/449], Batch Loss: 1.4022\n",
            "Epoch [14/15], Step [400/449], Batch Loss: 1.2487\n",
            "Epoch [14/15]:\n",
            "  Train Loss: 1.2382, Train Acc: 0.5280\n",
            "  Val Loss: 1.2001, Val Acc: 0.5425\n",
            "New best model saved with accuracy: 0.5425 at epoch 14\n",
            "Epoch [15/15], Step [100/449], Batch Loss: 1.1111\n",
            "Epoch [15/15], Step [200/449], Batch Loss: 1.3397\n",
            "Epoch [15/15], Step [300/449], Batch Loss: 1.3235\n",
            "Epoch [15/15], Step [400/449], Batch Loss: 1.3728\n",
            "Epoch [15/15]:\n",
            "  Train Loss: 1.2294, Train Acc: 0.5314\n",
            "  Val Loss: 1.2069, Val Acc: 0.5456\n",
            "New best model saved with accuracy: 0.5456 at epoch 15\n",
            "Finished Training\n",
            "Best validation accuracy during training: 0.5456\n",
            "Best model from baseline training saved to: SimpleCNN_Baseline_best_model.pth\n",
            "Logged SimpleCNN_Baseline_best_model.pth as a Wandb artifact.\n"
          ]
        },
        {
          "output_type": "display_data",
          "data": {
            "text/plain": [
              "<IPython.core.display.HTML object>"
            ],
            "text/html": []
          },
          "metadata": {}
        },
        {
          "output_type": "display_data",
          "data": {
            "text/plain": [
              "<IPython.core.display.HTML object>"
            ],
            "text/html": [
              "<br>    <style><br>        .wandb-row {<br>            display: flex;<br>            flex-direction: row;<br>            flex-wrap: wrap;<br>            justify-content: flex-start;<br>            width: 100%;<br>        }<br>        .wandb-col {<br>            display: flex;<br>            flex-direction: column;<br>            flex-basis: 100%;<br>            flex: 1;<br>            padding: 10px;<br>        }<br>    </style><br><div class=\"wandb-row\"><div class=\"wandb-col\"><h3>Run history:</h3><br/><table class=\"wandb\"><tr><td>epoch</td><td>▁▁▂▃▃▃▄▅▅▅▆▇▇▇█</td></tr><tr><td>learning_rate_current</td><td>▁▁▁▁▁▁▁▁▁▁▁▁▁▁▁</td></tr><tr><td>train_accuracy</td><td>▁▄▅▅▆▆▇▇▇▇▇████</td></tr><tr><td>train_loss</td><td>█▆▄▄▃▃▃▂▂▂▂▂▁▁▁</td></tr><tr><td>val_accuracy</td><td>▁▃▄▅▆▆▇▇▇▇▇████</td></tr><tr><td>val_loss</td><td>█▆▅▄▃▃▂▂▂▁▂▁▁▁▁</td></tr></table><br/></div><div class=\"wandb-col\"><h3>Run summary:</h3><br/><table class=\"wandb\"><tr><td>epoch</td><td>15</td></tr><tr><td>learning_rate_current</td><td>0.001</td></tr><tr><td>train_accuracy</td><td>0.5314</td></tr><tr><td>train_loss</td><td>1.22942</td></tr><tr><td>val_accuracy</td><td>0.54556</td></tr><tr><td>val_loss</td><td>1.20688</td></tr></table><br/></div></div>"
            ]
          },
          "metadata": {}
        },
        {
          "output_type": "display_data",
          "data": {
            "text/plain": [
              "<IPython.core.display.HTML object>"
            ],
            "text/html": [
              " View run <strong style=\"color:#cdcd00\">run-SimpleCNN_Baseline-20250602-185957</strong> at: <a href='https://wandb.ai/egabe21-free-university-of-tbilisi-/facial-expression-recognition-challenge/runs/jnvyn0a6' target=\"_blank\">https://wandb.ai/egabe21-free-university-of-tbilisi-/facial-expression-recognition-challenge/runs/jnvyn0a6</a><br> View project at: <a href='https://wandb.ai/egabe21-free-university-of-tbilisi-/facial-expression-recognition-challenge' target=\"_blank\">https://wandb.ai/egabe21-free-university-of-tbilisi-/facial-expression-recognition-challenge</a><br>Synced 5 W&B file(s), 0 media file(s), 2 artifact file(s) and 1 other file(s)"
            ]
          },
          "metadata": {}
        },
        {
          "output_type": "display_data",
          "data": {
            "text/plain": [
              "<IPython.core.display.HTML object>"
            ],
            "text/html": [
              "Find logs at: <code>./Facial-Expression-Recognition-Challenge/wandb/run-20250602_185957-jnvyn0a6/logs</code>"
            ]
          },
          "metadata": {}
        },
        {
          "output_type": "stream",
          "name": "stdout",
          "text": [
            "Wandb run finished.\n"
          ]
        }
      ]
    }
  ]
}